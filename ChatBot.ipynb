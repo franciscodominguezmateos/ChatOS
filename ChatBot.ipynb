{
 "cells": [
  {
   "cell_type": "code",
   "execution_count": 1,
   "metadata": {},
   "outputs": [],
   "source": [
    "# 19/07)2020\n",
    "# Francisco Dominguez"
   ]
  },
  {
   "cell_type": "code",
   "execution_count": 1,
   "metadata": {},
   "outputs": [],
   "source": [
    "import random\n",
    "import os\n",
    "import json\n",
    "import pickle\n",
    "import numpy as np\n",
    "import nltk\n",
    "from nltk.stem.lancaster import LancasterStemmer\n",
    "stemmer = LancasterStemmer()\n",
    "#from nltk.stem import SnowballStemmer\n",
    "#stemmer = SnowballStemmer('spanish')"
   ]
  },
  {
   "cell_type": "code",
   "execution_count": 2,
   "metadata": {},
   "outputs": [
    {
     "data": {
      "text/plain": [
       "'2.2.4-tf'"
      ]
     },
     "execution_count": 2,
     "metadata": {},
     "output_type": "execute_result"
    }
   ],
   "source": [
    "from tensorflow import keras\n",
    "from tensorflow.keras.models import Sequential\n",
    "from tensorflow.keras.layers import Dense, Activation, Dropout\n",
    "from tensorflow.keras.utils import to_categorical\n",
    "from tensorflow.keras.models import load_model\n",
    "keras.__version__"
   ]
  },
  {
   "cell_type": "code",
   "execution_count": 64,
   "metadata": {},
   "outputs": [],
   "source": [
    "class NLPModel(object):\n",
    "    def __init__(self):\n",
    "        self.chatBot=None\n",
    "    def setChatBot(self,cb):\n",
    "        self.chatBot=cb\n",
    "class NLPModelKeyWords(NLPModel):\n",
    "    pass\n",
    "class NLPANN(object):\n",
    "    pass\n",
    "class NLPANNkeras(NLPANN):\n",
    "    def __init__(self,nlpModel):\n",
    "        self.nlpModel=nlpModel\n",
    "        self.ann=None\n",
    "    def train(self,train_x,train_y):\n",
    "        self.ann = Sequential()\n",
    "        self.ann.add(Dense(25, input_dim=train_x.shape[1]))     # densidad de la primera capa de neurona y tipo de entrada\n",
    "        self.ann.add(Dropout(0.5))                                   # convierte a 0 la mitad de 1 en el entrenamiento\n",
    "        self.ann.add(Dense(25))                                      # densidad de la primera capa de neurona\n",
    "        self.ann.add(Dropout(0.5))                                   # convierte a 0 la mitad de 1 en el entrenamiento\n",
    "        self.ann.add(Dense(train_y.shape[1], activation='softmax'))  # densidad de la salida\n",
    "        self.ann.compile(loss='categorical_crossentropy',optimizer='adam',metrics=['accuracy'])\n",
    "        #self.ann.build()\n",
    "        self.ann.summary()\n",
    "        self.ann.fit(train_x, train_y, epochs=500, batch_size=8)   # entrena el modelo\n",
    "    def save(self,filename):\n",
    "        self.ann.save(filename)\n",
    "    def load(self,filename):\n",
    "        self.ann = load_model(filename)\n",
    "    def predict(self,sentenceBow):\n",
    "        p=self.ann.predict(np.reshape(sentenceBow,(1,-1)))\n",
    "        return p\n",
    "class NLPModelBoW(NLPModel):\n",
    "    def __init__(self):\n",
    "        # Bag of Words data\n",
    "        self.words=[]\n",
    "        self.classes=[]\n",
    "        self.documents=[]\n",
    "        self.ignore_words=['?']\n",
    "        # MLP data (this could be in a different object)\n",
    "        self.ann=NLPANNkeras(self)\n",
    "        self.train_x = []\n",
    "        self.train_y = []\n",
    "    # return bag of words array: 0 or 1 for each word in the bag that exists in the sentence\n",
    "    def clean_up_sentence(self,sentence):\n",
    "        # tokenize the pattern\n",
    "        sentence_words = nltk.word_tokenize(sentence)\n",
    "        # stem each word\n",
    "        sentence_words = [stemmer.stem(word.lower()) for word in sentence_words]\n",
    "        return sentence_words\n",
    "    def bow(self,sentence, show_details=False):\n",
    "        # tokenize the pattern\n",
    "        sentence_words = self.clean_up_sentence(sentence)\n",
    "        # bag of words\n",
    "        bag = []\n",
    "        # create our bag of words array\n",
    "        for w in self.words:\n",
    "            bag.append(1) if w in sentence_words else bag.append(0)\n",
    "        return(np.array(bag))\n",
    "    def buildData(self):\n",
    "        self.buildBowData()\n",
    "        self.buildTrainingData()\n",
    "    def buildBowData(self):\n",
    "        self.words=[]\n",
    "        self.classes=[]\n",
    "        self.documents=[]\n",
    "        for intent in self.chatBot.intents:\n",
    "            for pattern in intent.patterns:\n",
    "                # tokenize each word in the sentence\n",
    "                w = nltk.word_tokenize(pattern)\n",
    "                # add to our words list\n",
    "                self.words.extend(w)\n",
    "                # add to documents in our corpus\n",
    "                self.documents.append((pattern, intent.name))\n",
    "                # add to our classes list\n",
    "                if intent.name not in self.classes:\n",
    "                    self.classes.append(intent.name)\n",
    "        # stem and lower each word and remove duplicates\n",
    "        self.words = [stemmer.stem(w.lower()) for w in self.words if w not in self.ignore_words]\n",
    "        self.words = sorted(list(set(self.words)))\n",
    "\n",
    "        # remove duplicates\n",
    "        self.classes = sorted(list(set(self.classes)))\n",
    "\n",
    "        print (len(self.documents), \"documents\")\n",
    "        print (len(self.classes), \"classes\", self.classes)\n",
    "        print (len(self.words), \"unique stemmed words\", self.words)\n",
    "    def buildTrainingData(self):\n",
    "        # create our training data\n",
    "        training = []\n",
    "        output = []\n",
    "        # create an empty array for our output\n",
    "        output_empty = [0] * len(self.classes)\n",
    "\n",
    "        # training set, bag of words for each sentence\n",
    "        x=[]\n",
    "        y=[]\n",
    "        for doc in self.documents:\n",
    "            # initialize our bag of words\n",
    "            bag = self.bow(doc[0])\n",
    "            x.append(bag)\n",
    "            # output is a '0' for each tag and '1' for current tag\n",
    "            output_row = list(output_empty)\n",
    "            output_row[self.classes.index(doc[1])] = 1\n",
    "            y.append(output_row)\n",
    "        # shuffle our features and turn into np.array\n",
    "        random.shuffle(training)\n",
    "        training = np.array(training)\n",
    "        print(training.shape)\n",
    "\n",
    "        # create train data\n",
    "        self.train_x = np.array(x)\n",
    "        self.train_y = np.array(y)\n",
    "    def train(self):\n",
    "        self.ann.train(self.train_x,self.train_y)\n",
    "    def save(self):\n",
    "        # save all of our data structures\n",
    "        data={}\n",
    "        data['words']    =self.words \n",
    "        data['classes']  =self.classes \n",
    "        data['documents']=self.documents \n",
    "        data['train_x']  =self.train_x \n",
    "        data['train_y']  =self.train_y\n",
    "        pickle.dump( data, open( os.path.join('./',self.chatBot.name+\".pk\"), \"wb\" ) )\n",
    "        self.ann.save(os.path.join('./',self.chatBot.name+'.h5'))    # guarda el modelo\n",
    "    def load(self):\n",
    "        data = pickle.load( open( os.path.join('./',self.chatBot.name+\".pk\"), \"rb\" ) )\n",
    "        self.words     = data['words']\n",
    "        self.classes   = data['classes']\n",
    "        self.documents = data['documents']\n",
    "        self.train_x   = np.array(data['train_x'])\n",
    "        self.train_y   = np.array(data['train_y'])\n",
    "        self.ann.load(os.path.join('./',self.chatBot.name+'.h5'))\n",
    "    def predictClass(self,sentence):\n",
    "        sentenceBow=self.bow(sentence)\n",
    "        p=self.ann.predict(sentenceBow)\n",
    "        idClass=np.argmax(p)\n",
    "        pClass=np.max(p)\n",
    "        className=self.classes[idClass]\n",
    "        return className,idClass,pClass"
   ]
  },
  {
   "cell_type": "code",
   "execution_count": 46,
   "metadata": {},
   "outputs": [],
   "source": [
    "class Intent(object):\n",
    "    def __init__(self):\n",
    "        self.name=\"\"\n",
    "        self.patterns=[]\n",
    "        self.responses=[]\n",
    "        self.action=None\n",
    "    def fromJsonData(self,intent):\n",
    "        self.patterns =[]\n",
    "        self.responses=[]\n",
    "        self.name=intent['tag']\n",
    "        for pattern in intent['patterns']:\n",
    "            self.patterns.append(pattern)\n",
    "        for response in intent['responses']:\n",
    "            self.responses.append(response)\n",
    "        #self.action=intent['action']\n",
    "    def toJsonData(self):\n",
    "        dic={}\n",
    "        dic[\"name\"]=self.name\n",
    "        dic[\"patterns\"]=self.patterns\n",
    "        dic[\"responses\"]=self.responses\n",
    "        dic[\"action\"]=self.action\n",
    "        return dic"
   ]
  },
  {
   "cell_type": "code",
   "execution_count": 61,
   "metadata": {},
   "outputs": [],
   "source": [
    "class ChatBot(object):\n",
    "    def __init__(self,name):\n",
    "        self.name=name\n",
    "        self.intents=[]\n",
    "        self.model=NLPModelBoW()\n",
    "        self.model.setChatBot(self)\n",
    "        #TODO: refactor this\n",
    "        self.loadJson()\n",
    "        self.model.load()\n",
    "    def loadJson(self):\n",
    "        self.intents=[]\n",
    "        fileName=os.path.join('./',self.name+'.json')\n",
    "        with open(fileName) as json_data:\n",
    "            intents = json.load(json_data)\n",
    "        # loop through each sentence in our intents patterns\n",
    "        for intent in intents['intents']:\n",
    "            iobj=Intent()\n",
    "            iobj.fromJsonData(intent)\n",
    "            self.intents.append(iobj)\n",
    "        self.model.buildData()\n",
    "    def saveJson(self):\n",
    "        dic={}\n",
    "        dic[\"name\"]=self.name\n",
    "        dic[\"intents\"]=[i.toJsonData() for i in self.intents]\n",
    "        json_string=json.dumps(dic,indent=4)\n",
    "        fileName=os.path.join('./',self.name+'0.json')\n",
    "        with open(fileName, 'w') as json_file:\n",
    "            json_file.write(json_string)\n",
    "    def chooseRandom(self,responses):\n",
    "        sizeResponses=len(responses)\n",
    "        chooseIdResponse=random.randint(0,sizeResponses-1)\n",
    "        return responses[chooseIdResponse]\n",
    "    def chooseResponse(self,predictedIntent):\n",
    "        for intent in self.intents:\n",
    "            if intent.name==predictedIntent:\n",
    "                return self.chooseRandom(intent.responses)\n",
    "    def chat(self,sentence):\n",
    "        cn,idc,pc=self.model.predictClass(sentence)\n",
    "        print(idc,cn,pc)\n",
    "        if pc<0.55:\n",
    "            return self.chooseRandom([\"I don't understand your sentence.\",\n",
    "                                 \"What do you mean?\",\n",
    "                                 \"Could you please repeat with other words?\"]),\"do not understand\"\n",
    "        return self.chooseResponse(cn),cn"
   ]
  },
  {
   "cell_type": "code",
   "execution_count": 31,
   "metadata": {},
   "outputs": [],
   "source": [
    "class ChatBotEngine(object):\n",
    "    def __init__(self):\n",
    "        self.currentChatBot=ChatBot('intents')\n",
    "        self.currentIntent=\"None\"\n",
    "    def getInput(self):\n",
    "        return input('Ready: ')\n",
    "    def setOutput(self,response):\n",
    "        print(response)\n",
    "    def run(self):\n",
    "        while self.currentIntent!=\"goodbye\":\n",
    "            sentence=self.getInput()\n",
    "            response,intent=self.currentChatBot.chat(sentence)\n",
    "            self.currentIntent=intent\n",
    "            self.setOutput(response)\n",
    "        self.currentIntent=\"None\""
   ]
  },
  {
   "cell_type": "code",
   "execution_count": 7,
   "metadata": {},
   "outputs": [],
   "source": [
    "# These are analogous to winget for GUI\n",
    "class Chatget(object):\n",
    "    pass\n",
    "# This is analogous to desktop GUI\n",
    "# ChatExplorer to manipulate folders and copy/move chatbots\n",
    "class ChatDesktop(ChatBot):\n",
    "    pass\n",
    "# A chatbot to build or modify other chatbots\n",
    "class MetaChatBot(ChatBot):\n",
    "    pass\n",
    "# Detect prediction error an improve the model of chatbots\n",
    "class ChatLearner(ChatBot):\n",
    "    pass"
   ]
  },
  {
   "cell_type": "code",
   "execution_count": 62,
   "metadata": {},
   "outputs": [
    {
     "name": "stdout",
     "output_type": "stream",
     "text": [
      "27 documents\n",
      "9 classes ['goodbye', 'greeting', 'hours', 'mopeds', 'opentoday', 'payments', 'rental', 'thanks', 'today']\n",
      "48 unique stemmed words [\"'d\", \"'s\", 'a', 'acceiv', 'anyon', 'ar', 'bye', 'can', 'card', 'cash', 'credit', 'day', 'do', 'doe', 'good', 'goodby', 'hav', 'hello', 'help', 'hi', 'hour', 'how', 'i', 'is', 'kind', 'lat', 'lik', 'mastercard', 'mop', 'of', 'on', 'op', 'rent', 'see', 'tak', 'thank', 'that', 'ther', 'thi', 'to', 'today', 'we', 'what', 'when', 'which', 'work', 'yo', 'you']\n",
      "(0,)\n"
     ]
    }
   ],
   "source": [
    "cb=ChatBot('intents')"
   ]
  },
  {
   "cell_type": "code",
   "execution_count": 63,
   "metadata": {},
   "outputs": [],
   "source": [
    "cb.saveJson()"
   ]
  },
  {
   "cell_type": "code",
   "execution_count": 9,
   "metadata": {},
   "outputs": [
    {
     "data": {
      "text/plain": [
       "['Hi', 'How are you', 'Is anyone there?', 'Hello', 'Good day']"
      ]
     },
     "execution_count": 9,
     "metadata": {},
     "output_type": "execute_result"
    }
   ],
   "source": [
    "cb.intents[0].patterns"
   ]
  },
  {
   "cell_type": "code",
   "execution_count": 10,
   "metadata": {},
   "outputs": [
    {
     "name": "stdout",
     "output_type": "stream",
     "text": [
      "(48,)\n",
      "[0 0 0 0 0 0 0 0 0 0 0 0 1 0 0 0 1 0 0 0 0 0 0 0 0 0 0 0 1 0 0 0 0 0 0 0 0\n",
      " 0 0 0 0 0 0 0 1 0 0 1]\n"
     ]
    }
   ],
   "source": [
    "test=cb.model.bow('Which mopeds do you have for sales?')\n",
    "print(test.shape)\n",
    "print(test)"
   ]
  },
  {
   "cell_type": "code",
   "execution_count": 11,
   "metadata": {},
   "outputs": [
    {
     "data": {
      "text/plain": [
       "(27, 48)"
      ]
     },
     "execution_count": 11,
     "metadata": {},
     "output_type": "execute_result"
    }
   ],
   "source": [
    "cb.model.train_x.shape"
   ]
  },
  {
   "cell_type": "code",
   "execution_count": 12,
   "metadata": {},
   "outputs": [
    {
     "data": {
      "text/plain": [
       "(27, 9)"
      ]
     },
     "execution_count": 12,
     "metadata": {},
     "output_type": "execute_result"
    }
   ],
   "source": [
    "cb.model.train_y.shape"
   ]
  },
  {
   "cell_type": "code",
   "execution_count": 13,
   "metadata": {},
   "outputs": [
    {
     "name": "stdout",
     "output_type": "stream",
     "text": [
      "2 hours 0.98776114\n"
     ]
    },
    {
     "data": {
      "text/plain": [
       "('Our hours are 9am-9pm every day', 'hours')"
      ]
     },
     "execution_count": 13,
     "metadata": {},
     "output_type": "execute_result"
    }
   ],
   "source": [
    "cb.chat('Are you open now?')"
   ]
  },
  {
   "cell_type": "code",
   "execution_count": 21,
   "metadata": {},
   "outputs": [],
   "source": [
    "#cb.model.train()"
   ]
  },
  {
   "cell_type": "code",
   "execution_count": 16,
   "metadata": {},
   "outputs": [],
   "source": [
    "cb.model.save()"
   ]
  },
  {
   "cell_type": "code",
   "execution_count": 14,
   "metadata": {},
   "outputs": [],
   "source": [
    "cb.model.load()"
   ]
  },
  {
   "cell_type": "code",
   "execution_count": 15,
   "metadata": {},
   "outputs": [
    {
     "data": {
      "text/plain": [
       "(1, 48)"
      ]
     },
     "execution_count": 15,
     "metadata": {},
     "output_type": "execute_result"
    }
   ],
   "source": [
    "test=np.reshape(test,(1,48))\n",
    "test.shape"
   ]
  },
  {
   "cell_type": "code",
   "execution_count": 16,
   "metadata": {},
   "outputs": [],
   "source": [
    "p=cb.model.ann.predict(test)"
   ]
  },
  {
   "cell_type": "code",
   "execution_count": 17,
   "metadata": {},
   "outputs": [
    {
     "name": "stdout",
     "output_type": "stream",
     "text": [
      "[[3.14796011e-09 1.16214025e-07 3.47157822e-07 9.99977350e-01\n",
      "  1.16851879e-06 6.39009886e-06 1.04172295e-05 3.39423173e-06\n",
      "  8.38683832e-07]]\n"
     ]
    }
   ],
   "source": [
    "print(p)"
   ]
  },
  {
   "cell_type": "code",
   "execution_count": 18,
   "metadata": {},
   "outputs": [
    {
     "name": "stdout",
     "output_type": "stream",
     "text": [
      "3\n"
     ]
    }
   ],
   "source": [
    "idclass=np.argmax(p)\n",
    "print(idclass)"
   ]
  },
  {
   "cell_type": "code",
   "execution_count": 19,
   "metadata": {},
   "outputs": [
    {
     "name": "stdout",
     "output_type": "stream",
     "text": [
      "mopeds\n"
     ]
    }
   ],
   "source": [
    "print(cb.model.classes[idclass])"
   ]
  },
  {
   "cell_type": "code",
   "execution_count": 32,
   "metadata": {},
   "outputs": [
    {
     "name": "stdout",
     "output_type": "stream",
     "text": [
      "27 documents\n",
      "9 classes ['goodbye', 'greeting', 'hours', 'mopeds', 'opentoday', 'payments', 'rental', 'thanks', 'today']\n",
      "48 unique stemmed words [\"'d\", \"'s\", 'a', 'acceiv', 'anyon', 'ar', 'bye', 'can', 'card', 'cash', 'credit', 'day', 'do', 'doe', 'good', 'goodby', 'hav', 'hello', 'help', 'hi', 'hour', 'how', 'i', 'is', 'kind', 'lat', 'lik', 'mastercard', 'mop', 'of', 'on', 'op', 'rent', 'see', 'tak', 'thank', 'that', 'ther', 'thi', 'to', 'today', 'we', 'what', 'when', 'which', 'work', 'yo', 'you']\n",
      "(0,)\n"
     ]
    }
   ],
   "source": [
    "cbe=ChatBotEngine()"
   ]
  },
  {
   "cell_type": "code",
   "execution_count": 34,
   "metadata": {},
   "outputs": [
    {
     "name": "stdin",
     "output_type": "stream",
     "text": [
      "Ready:  Hello\n"
     ]
    },
    {
     "name": "stdout",
     "output_type": "stream",
     "text": [
      "1 greeting 0.99883026\n",
      "Hi there, how can I help?\n"
     ]
    },
    {
     "name": "stdin",
     "output_type": "stream",
     "text": [
      "Ready:  what are pyment modes?\n"
     ]
    },
    {
     "name": "stdout",
     "output_type": "stream",
     "text": [
      "2 hours 0.6349642\n",
      "Our hours are 9am-9pm every day\n"
     ]
    },
    {
     "name": "stdin",
     "output_type": "stream",
     "text": [
      "Ready:  Can I pay with card?\n"
     ]
    },
    {
     "name": "stdout",
     "output_type": "stream",
     "text": [
      "6 rental 0.38866323\n",
      "What do you mean?\n"
     ]
    },
    {
     "name": "stdin",
     "output_type": "stream",
     "text": [
      "Ready:  I have only cash\n"
     ]
    },
    {
     "name": "stdout",
     "output_type": "stream",
     "text": [
      "5 payments 0.9901258\n",
      "We accept VISA, Mastercard and AMEX\n"
     ]
    },
    {
     "name": "stdin",
     "output_type": "stream",
     "text": [
      "Ready:  you\n"
     ]
    },
    {
     "name": "stdout",
     "output_type": "stream",
     "text": [
      "1 greeting 0.3721449\n",
      "Could you please repeat with other words?\n"
     ]
    },
    {
     "name": "stdin",
     "output_type": "stream",
     "text": [
      "Ready:  are you\n"
     ]
    },
    {
     "name": "stdout",
     "output_type": "stream",
     "text": [
      "1 greeting 0.6009029\n",
      "Hi there, how can I help?\n"
     ]
    },
    {
     "name": "stdin",
     "output_type": "stream",
     "text": [
      "Ready:  what do\n"
     ]
    },
    {
     "name": "stdout",
     "output_type": "stream",
     "text": [
      "3 mopeds 0.9696661\n",
      "We rent Yamaha, Piaggio and Vespa mopeds\n"
     ]
    },
    {
     "name": "stdin",
     "output_type": "stream",
     "text": [
      "Ready:  exit\n"
     ]
    },
    {
     "name": "stdout",
     "output_type": "stream",
     "text": [
      "0 goodbye 0.36290523\n",
      "Could you please repeat with other words?\n"
     ]
    },
    {
     "name": "stdin",
     "output_type": "stream",
     "text": [
      "Ready:  good bye\n"
     ]
    },
    {
     "name": "stdout",
     "output_type": "stream",
     "text": [
      "0 goodbye 0.84957325\n",
      "Bye! Come back again soon.\n"
     ]
    }
   ],
   "source": [
    "cbe.run()"
   ]
  },
  {
   "cell_type": "code",
   "execution_count": null,
   "metadata": {},
   "outputs": [],
   "source": []
  }
 ],
 "metadata": {
  "kernelspec": {
   "display_name": "Python 3",
   "language": "python",
   "name": "python3"
  },
  "language_info": {
   "codemirror_mode": {
    "name": "ipython",
    "version": 3
   },
   "file_extension": ".py",
   "mimetype": "text/x-python",
   "name": "python",
   "nbconvert_exporter": "python",
   "pygments_lexer": "ipython3",
   "version": "3.7.6"
  }
 },
 "nbformat": 4,
 "nbformat_minor": 4
}
