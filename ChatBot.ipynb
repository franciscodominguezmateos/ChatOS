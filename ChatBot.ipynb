{
 "cells": [
  {
   "cell_type": "code",
   "execution_count": 1,
   "metadata": {},
   "outputs": [],
   "source": [
    "# 19/07)2020\n",
    "# Francisco Dominguez"
   ]
  },
  {
   "cell_type": "code",
   "execution_count": 1,
   "metadata": {},
   "outputs": [],
   "source": [
    "import random\n",
    "import os\n",
    "import json\n",
    "import pickle\n",
    "import numpy as np\n",
    "import nltk\n",
    "from nltk.stem.lancaster import LancasterStemmer\n",
    "stemmer = LancasterStemmer()\n",
    "#from nltk.stem import SnowballStemmer\n",
    "#stemmer = SnowballStemmer('spanish')"
   ]
  },
  {
   "cell_type": "code",
   "execution_count": 2,
   "metadata": {},
   "outputs": [
    {
     "data": {
      "text/plain": [
       "'2.2.4-tf'"
      ]
     },
     "execution_count": 2,
     "metadata": {},
     "output_type": "execute_result"
    }
   ],
   "source": [
    "from tensorflow import keras\n",
    "from tensorflow.keras.models import Sequential\n",
    "from tensorflow.keras.layers import Dense, Activation, Dropout\n",
    "from tensorflow.keras.utils import to_categorical\n",
    "from tensorflow.keras.models import load_model\n",
    "keras.__version__"
   ]
  },
  {
   "cell_type": "code",
   "execution_count": 25,
   "metadata": {},
   "outputs": [],
   "source": [
    "class NLPModel(object):\n",
    "    def __init__(self):\n",
    "        self.chatBot=None\n",
    "    def setChatBot(self,cb):\n",
    "        self.chatBot=cb\n",
    "class NLPModelBoW(NLPModel):\n",
    "    def __init__(self):\n",
    "        # Bag of Words data\n",
    "        self.words=[]\n",
    "        self.classes=[]\n",
    "        self.documents=[]\n",
    "        self.ignore_words=['?']\n",
    "        # MLP data\n",
    "        self.ann=None\n",
    "        self.train_x = []\n",
    "        self.train_y = []\n",
    "    # return bag of words array: 0 or 1 for each word in the bag that exists in the sentence\n",
    "    def clean_up_sentence(self,sentence):\n",
    "        # tokenize the pattern\n",
    "        sentence_words = nltk.word_tokenize(sentence)\n",
    "        # stem each word\n",
    "        sentence_words = [stemmer.stem(word.lower()) for word in sentence_words]\n",
    "        return sentence_words\n",
    "    def bow(self,sentence, show_details=False):\n",
    "        # tokenize the pattern\n",
    "        sentence_words = self.clean_up_sentence(sentence)\n",
    "        # bag of words\n",
    "        bag = []\n",
    "        # create our bag of words array\n",
    "        for w in self.words:\n",
    "            bag.append(1) if w in sentence_words else bag.append(0)\n",
    "        return(np.array(bag))\n",
    "    def buildData(self):\n",
    "        self.buildBowData()\n",
    "        self.buildTrainingData()\n",
    "    def buildBowData(self):\n",
    "        self.words=[]\n",
    "        self.classes=[]\n",
    "        self.documents=[]\n",
    "        for intent in self.chatBot.intents:\n",
    "            for pattern in intent.patterns:\n",
    "                # tokenize each word in the sentence\n",
    "                w = nltk.word_tokenize(pattern)\n",
    "                # add to our words list\n",
    "                self.words.extend(w)\n",
    "                # add to documents in our corpus\n",
    "                self.documents.append((pattern, intent.name))\n",
    "                # add to our classes list\n",
    "                if intent.name not in self.classes:\n",
    "                    self.classes.append(intent.name)\n",
    "        # stem and lower each word and remove duplicates\n",
    "        self.words = [stemmer.stem(w.lower()) for w in self.words if w not in self.ignore_words]\n",
    "        self.words = sorted(list(set(self.words)))\n",
    "\n",
    "        # remove duplicates\n",
    "        self.classes = sorted(list(set(self.classes)))\n",
    "\n",
    "        print (len(self.documents), \"documents\")\n",
    "        print (len(self.classes), \"classes\", self.classes)\n",
    "        print (len(self.words), \"unique stemmed words\", self.words)\n",
    "    def buildTrainingData(self):\n",
    "        # create our training data\n",
    "        training = []\n",
    "        output = []\n",
    "        # create an empty array for our output\n",
    "        output_empty = [0] * len(self.classes)\n",
    "\n",
    "        # training set, bag of words for each sentence\n",
    "        x=[]\n",
    "        y=[]\n",
    "        for doc in self.documents:\n",
    "            # initialize our bag of words\n",
    "            bag = self.bow(doc[0])\n",
    "            x.append(bag)\n",
    "            # output is a '0' for each tag and '1' for current tag\n",
    "            output_row = list(output_empty)\n",
    "            output_row[self.classes.index(doc[1])] = 1\n",
    "            y.append(output_row)\n",
    "        # shuffle our features and turn into np.array\n",
    "        random.shuffle(training)\n",
    "        training = np.array(training)\n",
    "        print(training.shape)\n",
    "\n",
    "        # create train data\n",
    "        self.train_x = np.array(x)\n",
    "        self.train_y = np.array(y)\n",
    "    def train(self):\n",
    "        self.ann = Sequential()\n",
    "        self.ann.add(Dense(25, input_dim=self.train_x.shape[1]))     # densidad de la primera capa de neurona y tipo de entrada\n",
    "        self.ann.add(Dropout(0.5))                                   # convierte a 0 la mitad de 1 en el entrenamiento\n",
    "        self.ann.add(Dense(25))                                      # densidad de la primera capa de neurona\n",
    "        self.ann.add(Dropout(0.5))                                   # convierte a 0 la mitad de 1 en el entrenamiento\n",
    "        self.ann.add(Dense(self.train_y.shape[1], activation='softmax'))  # densidad de la salida\n",
    "        self.ann.compile(loss='categorical_crossentropy',optimizer='adam',metrics=['accuracy'])\n",
    "        self.ann.build()\n",
    "        self.ann.summary()\n",
    "        #self.ann.fit(self.train_x, self.train_y, nb_epoch=500, batch_size=8)   # entrena el modelo\n",
    "    def save(self):\n",
    "        # save all of our data structures\n",
    "        data={}\n",
    "        data['words']    =self.words \n",
    "        data['classes']  =self.classes \n",
    "        data['documents']=self.documents \n",
    "        data['train_x']  =self.train_x \n",
    "        data['train_y']  =self.train_y\n",
    "        pickle.dump( data, open( os.path.join('./',self.chatBot.name+\".pk\"), \"wb\" ) )\n",
    "        model.save(os.path.join('./',self.chatBot.name+'.h5'))    # guarda el modelo\n",
    "    def load(self):\n",
    "        data = pickle.load( open( os.path.join('./',self.chatBot.name+\".pk\"), \"rb\" ) )\n",
    "        self.words     = data['words']\n",
    "        self.classes   = data['classes']\n",
    "        self.documents = data['documents']\n",
    "        self.train_x   = np.array(data['train_x'])\n",
    "        self.train_y   = np.array(data['train_y'])\n",
    "        self.ann = load_model(os.path.join('./',self.chatBot.name+'.h5'))"
   ]
  },
  {
   "cell_type": "code",
   "execution_count": 26,
   "metadata": {},
   "outputs": [],
   "source": [
    "class Intent(object):\n",
    "    def __init__(self):\n",
    "        self.name=\"\"\n",
    "        self.patterns=[]\n",
    "        self.responses=[]\n",
    "        self.action=None\n",
    "    def fromJsonData(self,intent):\n",
    "        self.patterns =[]\n",
    "        self.responses=[]\n",
    "        self.name=intent['tag']\n",
    "        for pattern in intent['patterns']:\n",
    "            self.patterns.append(pattern)\n",
    "        for response in intent['responses']:\n",
    "            self.responses.append(response)\n",
    "        #self.action=intent['action']"
   ]
  },
  {
   "cell_type": "code",
   "execution_count": 27,
   "metadata": {},
   "outputs": [],
   "source": [
    "class ChatBot(object):\n",
    "    def __init__(self,name):\n",
    "        self.name=name\n",
    "        self.intents=[]\n",
    "        self.model=NLPModelBoW()\n",
    "        self.model.setChatBot(self)\n",
    "    def loadJson(self):\n",
    "        with open(os.path.join('./',self.name+'.json')) as json_data:\n",
    "            intents = json.load(json_data)\n",
    "        # loop through each sentence in our intents patterns\n",
    "        for intent in intents['intents']:\n",
    "            iobj=Intent()\n",
    "            iobj.fromJsonData(intent)\n",
    "            self.intents.append(iobj)\n",
    "        self.model.buildData()"
   ]
  },
  {
   "cell_type": "code",
   "execution_count": 28,
   "metadata": {},
   "outputs": [
    {
     "name": "stdout",
     "output_type": "stream",
     "text": [
      "27 documents\n",
      "9 classes ['goodbye', 'greeting', 'hours', 'mopeds', 'opentoday', 'payments', 'rental', 'thanks', 'today']\n",
      "48 unique stemmed words [\"'d\", \"'s\", 'a', 'acceiv', 'anyon', 'ar', 'bye', 'can', 'card', 'cash', 'credit', 'day', 'do', 'doe', 'good', 'goodby', 'hav', 'hello', 'help', 'hi', 'hour', 'how', 'i', 'is', 'kind', 'lat', 'lik', 'mastercard', 'mop', 'of', 'on', 'op', 'rent', 'see', 'tak', 'thank', 'that', 'ther', 'thi', 'to', 'today', 'we', 'what', 'when', 'which', 'work', 'yo', 'you']\n",
      "(0,)\n"
     ]
    }
   ],
   "source": [
    "cb=ChatBot('intents')\n",
    "cb.loadJson()"
   ]
  },
  {
   "cell_type": "code",
   "execution_count": 29,
   "metadata": {},
   "outputs": [
    {
     "data": {
      "text/plain": [
       "['Hi', 'How are you', 'Is anyone there?', 'Hello', 'Good day']"
      ]
     },
     "execution_count": 29,
     "metadata": {},
     "output_type": "execute_result"
    }
   ],
   "source": [
    "cb.intents[0].patterns"
   ]
  },
  {
   "cell_type": "code",
   "execution_count": 30,
   "metadata": {},
   "outputs": [
    {
     "name": "stdout",
     "output_type": "stream",
     "text": [
      "(48,)\n",
      "[0 0 0 0 0 0 0 0 0 0 0 0 1 0 0 0 1 0 0 0 0 0 0 0 0 0 0 0 1 0 0 0 0 0 0 0 0\n",
      " 0 0 0 0 0 0 0 1 0 0 1]\n"
     ]
    }
   ],
   "source": [
    "test=cb.model.bow('Which mopeds do you have for sales?')\n",
    "print(test.shape)\n",
    "print(test)"
   ]
  },
  {
   "cell_type": "code",
   "execution_count": 31,
   "metadata": {},
   "outputs": [
    {
     "data": {
      "text/plain": [
       "array([[0, 0, 0, ..., 0, 0, 0],\n",
       "       [0, 0, 0, ..., 0, 0, 1],\n",
       "       [0, 0, 0, ..., 0, 0, 0],\n",
       "       ...,\n",
       "       [1, 0, 1, ..., 0, 0, 0],\n",
       "       [0, 0, 0, ..., 1, 0, 0],\n",
       "       [0, 0, 0, ..., 0, 0, 0]])"
      ]
     },
     "execution_count": 31,
     "metadata": {},
     "output_type": "execute_result"
    }
   ],
   "source": [
    "cb.model.train_x"
   ]
  },
  {
   "cell_type": "code",
   "execution_count": 32,
   "metadata": {},
   "outputs": [
    {
     "data": {
      "text/plain": [
       "(27, 9)"
      ]
     },
     "execution_count": 32,
     "metadata": {},
     "output_type": "execute_result"
    }
   ],
   "source": [
    "cb.model.train_y.shape"
   ]
  },
  {
   "cell_type": "code",
   "execution_count": null,
   "metadata": {},
   "outputs": [],
   "source": [
    "cb.model.train()"
   ]
  },
  {
   "cell_type": "code",
   "execution_count": null,
   "metadata": {},
   "outputs": [],
   "source": []
  },
  {
   "cell_type": "code",
   "execution_count": null,
   "metadata": {},
   "outputs": [],
   "source": [
    "model = Sequential()\n",
    "model.add(Dense(25, input_dim=27))          # densidad de la primera capa de neurona y tipo de entrada\n",
    "model.add(Dropout(0.5))                                        # convierte a 0 la mitad de 1 en el entrenamiento\n",
    "model.add(Dense(25))                                           # densidad de la primera capa de neurona\n",
    "model.add(Dropout(0.5))                                        # convierte a 0 la mitad de 1 en el entrenamiento\n",
    "model.add(Dense(9, activation='softmax'))  # densidad de la salida\n",
    "model.summary()"
   ]
  },
  {
   "cell_type": "code",
   "execution_count": null,
   "metadata": {},
   "outputs": [],
   "source": []
  }
 ],
 "metadata": {
  "kernelspec": {
   "display_name": "Python 3",
   "language": "python",
   "name": "python3"
  },
  "language_info": {
   "codemirror_mode": {
    "name": "ipython",
    "version": 3
   },
   "file_extension": ".py",
   "mimetype": "text/x-python",
   "name": "python",
   "nbconvert_exporter": "python",
   "pygments_lexer": "ipython3",
   "version": "3.7.6"
  }
 },
 "nbformat": 4,
 "nbformat_minor": 4
}
